{
 "cells": [
  {
   "cell_type": "code",
   "execution_count": 4,
   "id": "57546caa",
   "metadata": {},
   "outputs": [
    {
     "data": {
      "text/html": [
       "<div>\n",
       "<style scoped>\n",
       "    .dataframe tbody tr th:only-of-type {\n",
       "        vertical-align: middle;\n",
       "    }\n",
       "\n",
       "    .dataframe tbody tr th {\n",
       "        vertical-align: top;\n",
       "    }\n",
       "\n",
       "    .dataframe thead th {\n",
       "        text-align: right;\n",
       "    }\n",
       "</style>\n",
       "<table border=\"1\" class=\"dataframe\">\n",
       "  <thead>\n",
       "    <tr style=\"text-align: right;\">\n",
       "      <th></th>\n",
       "      <th>WeatherAverage</th>\n",
       "      <th>Year</th>\n",
       "    </tr>\n",
       "    <tr>\n",
       "      <th>COC_NAME</th>\n",
       "      <th></th>\n",
       "      <th></th>\n",
       "    </tr>\n",
       "  </thead>\n",
       "  <tbody>\n",
       "    <tr>\n",
       "      <th>Alameda</th>\n",
       "      <td>24.97</td>\n",
       "      <td>2017</td>\n",
       "    </tr>\n",
       "    <tr>\n",
       "      <th>Alpine</th>\n",
       "      <td>64.24</td>\n",
       "      <td>2017</td>\n",
       "    </tr>\n",
       "    <tr>\n",
       "      <th>Amador</th>\n",
       "      <td>55.94</td>\n",
       "      <td>2017</td>\n",
       "    </tr>\n",
       "    <tr>\n",
       "      <th>Butte</th>\n",
       "      <td>56.41</td>\n",
       "      <td>2017</td>\n",
       "    </tr>\n",
       "    <tr>\n",
       "      <th>Calaveras</th>\n",
       "      <td>51.55</td>\n",
       "      <td>2017</td>\n",
       "    </tr>\n",
       "    <tr>\n",
       "      <th>...</th>\n",
       "      <td>...</td>\n",
       "      <td>...</td>\n",
       "    </tr>\n",
       "    <tr>\n",
       "      <th>Tulare</th>\n",
       "      <td>12.31</td>\n",
       "      <td>2022</td>\n",
       "    </tr>\n",
       "    <tr>\n",
       "      <th>Tuolumne</th>\n",
       "      <td>29.48</td>\n",
       "      <td>2022</td>\n",
       "    </tr>\n",
       "    <tr>\n",
       "      <th>Ventura</th>\n",
       "      <td>9.95</td>\n",
       "      <td>2022</td>\n",
       "    </tr>\n",
       "    <tr>\n",
       "      <th>Yolo</th>\n",
       "      <td>11.49</td>\n",
       "      <td>2022</td>\n",
       "    </tr>\n",
       "    <tr>\n",
       "      <th>Yuba</th>\n",
       "      <td>23.37</td>\n",
       "      <td>2022</td>\n",
       "    </tr>\n",
       "  </tbody>\n",
       "</table>\n",
       "<p>348 rows × 2 columns</p>\n",
       "</div>"
      ],
      "text/plain": [
       "           WeatherAverage  Year\n",
       "COC_NAME                       \n",
       "Alameda             24.97  2017\n",
       "Alpine              64.24  2017\n",
       "Amador              55.94  2017\n",
       "Butte               56.41  2017\n",
       "Calaveras           51.55  2017\n",
       "...                   ...   ...\n",
       "Tulare              12.31  2022\n",
       "Tuolumne            29.48  2022\n",
       "Ventura              9.95  2022\n",
       "Yolo                11.49  2022\n",
       "Yuba                23.37  2022\n",
       "\n",
       "[348 rows x 2 columns]"
      ]
     },
     "execution_count": 4,
     "metadata": {},
     "output_type": "execute_result"
    }
   ],
   "source": [
    "import pandas as pd\n",
    "from pathlib import Path\n",
    "\n",
    "# Read weather data\n",
    "weather_data = Path('20172022precipitation.csv')\n",
    "weather_df = pd.read_csv(weather_data)\n",
    "weather_df = weather_df.rename(columns={'Name': 'COC_NAME', 'Value': 'WeatherAverage'})\n",
    "weather_df['COC_NAME'] = weather_df['COC_NAME'].str.replace(' County', '')\n",
    "weather_df = weather_df[['COC_NAME', 'WeatherAverage', 'Year']]\n",
    "weather_df = weather_df.set_index('COC_NAME')\n",
    "weather_df"
   ]
  },
  {
   "cell_type": "code",
   "execution_count": 3,
   "id": "af22dc56",
   "metadata": {},
   "outputs": [
    {
     "name": "stderr",
     "output_type": "stream",
     "text": [
      "/var/folders/yv/0ytq2z913n1bk1y0rnsc187m0000gn/T/ipykernel_17984/2295640561.py:7: SettingWithCopyWarning: \n",
      "A value is trying to be set on a copy of a slice from a DataFrame.\n",
      "Try using .loc[row_indexer,col_indexer] = value instead\n",
      "\n",
      "See the caveats in the documentation: https://pandas.pydata.org/pandas-docs/stable/user_guide/indexing.html#returning-a-view-versus-a-copy\n",
      "  clean_age_df['EXPERIENCING_HOMELESSNESS_CNT'] = clean_age_df['EXPERIENCING_HOMELESSNESS_CNT'].astype(int)\n"
     ]
    }
   ],
   "source": []
  },
  {
   "cell_type": "code",
   "execution_count": null,
   "id": "dc061733",
   "metadata": {},
   "outputs": [],
   "source": []
  }
 ],
 "metadata": {
  "kernelspec": {
   "display_name": "Python 3 (ipykernel)",
   "language": "python",
   "name": "python3"
  },
  "language_info": {
   "codemirror_mode": {
    "name": "ipython",
    "version": 3
   },
   "file_extension": ".py",
   "mimetype": "text/x-python",
   "name": "python",
   "nbconvert_exporter": "python",
   "pygments_lexer": "ipython3",
   "version": "3.10.9"
  }
 },
 "nbformat": 4,
 "nbformat_minor": 5
}
