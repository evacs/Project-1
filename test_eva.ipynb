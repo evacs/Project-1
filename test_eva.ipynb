{
 "cells": [
  {
   "cell_type": "markdown",
   "id": "1469adab",
   "metadata": {},
   "source": [
    "This is a test"
   ]
  },
  {
   "cell_type": "markdown",
   "id": "d4da12cf",
   "metadata": {},
   "source": [
    "I have added a branch"
   ]
  },
  {
   "cell_type": "code",
   "execution_count": null,
   "id": "1d37c5c1",
   "metadata": {},
   "outputs": [],
   "source": []
  }
 ],
 "metadata": {
  "kernelspec": {
   "display_name": "Python 3",
   "language": "python",
   "name": "python3"
  },
  "language_info": {
   "codemirror_mode": {
    "name": "ipython",
    "version": 3
   },
   "file_extension": ".py",
   "mimetype": "text/x-python",
   "name": "python",
   "nbconvert_exporter": "python",
   "pygments_lexer": "ipython3",
   "version": "3.8.5"
  }
 },
 "nbformat": 4,
 "nbformat_minor": 5
}
