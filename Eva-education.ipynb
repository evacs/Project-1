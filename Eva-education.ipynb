{
 "cells": [
  {
   "cell_type": "code",
   "execution_count": 1,
   "id": "f0595749",
   "metadata": {},
   "outputs": [],
   "source": [
    "import pandas as pd\n",
    "import matplotlib as pyplot   \n",
    "from pathlib import Path\n",
    "import requests\n",
    "import json\n",
    "from census import Census\n",
    "from us import states"
   ]
  },
  {
   "cell_type": "code",
   "execution_count": 2,
   "id": "e60fae08",
   "metadata": {},
   "outputs": [
    {
     "name": "stdout",
     "output_type": "stream",
     "text": [
      "https://api.census.gov/data/2022/cps/asec/mar\n"
     ]
    }
   ],
   "source": [
    "api_key = \"1a075ccdd14f7502695aa6696d73d28a29c0565e\"\n",
    "# base_url = \"http://api.census.gov/data.json\"\n",
    "base_url = \"http://api.census.gov/data/2022/cps/asec/mar\"\n",
    "response = requests.get(base_url)\n",
    "print(response.url)"
   ]
  },
  {
   "cell_type": "code",
   "execution_count": 3,
   "id": "e79bc774",
   "metadata": {},
   "outputs": [
    {
     "name": "stdout",
     "output_type": "stream",
     "text": [
      "                           NAME  B15003_002E  B15003_022E  B15003_025E state  \\\n",
      "0    Alameda County, California      31416.0     337847.0      36967.0    06   \n",
      "1     Alpine County, California         11.0        200.0         41.0    06   \n",
      "2     Amador County, California        376.0       4317.0        173.0    06   \n",
      "3      Butte County, California       2195.0      27819.0       1813.0    06   \n",
      "4  Calaveras County, California        250.0       4876.0        232.0    06   \n",
      "\n",
      "  county  \n",
      "0    001  \n",
      "1    003  \n",
      "2    005  \n",
      "3    007  \n",
      "4    009  \n"
     ]
    }
   ],
   "source": [
    "census_client = Census(api_key)\n",
    "state_code = states.CA.fips\n",
    "\n",
    "variables = [\n",
    "    \"NAME\",\n",
    "    \"B15003_002E\", # Number of people with no high school diploma\n",
    "    \"B15003_022E\",  # Number of people with a Bachelor's degree\n",
    "    \"B15003_025E\",  # Number of people with a graduate degree\n",
    "    # Add more variables as needed\n",
    "]\n",
    "\n",
    "# Fetch the data for all counties in California\n",
    "data = census_client.acs5.state_county(variables, state_code, Census.ALL, year = 2021)\n",
    "\n",
    "# Create a DataFrame from the fetched data\n",
    "df = pd.DataFrame(data)\n",
    "\n",
    "# Print the DataFrame\n",
    "print(df.head())"
   ]
  },
  {
   "cell_type": "code",
   "execution_count": 4,
   "id": "de226780",
   "metadata": {},
   "outputs": [
    {
     "data": {
      "text/plain": [
       "58"
      ]
     },
     "execution_count": 4,
     "metadata": {},
     "output_type": "execute_result"
    }
   ],
   "source": [
    "len(df)"
   ]
  },
  {
   "cell_type": "code",
   "execution_count": 5,
   "id": "ce878b78",
   "metadata": {},
   "outputs": [
    {
     "name": "stdout",
     "output_type": "stream",
     "text": [
      "{\n",
      "    \"help\": \"https://data.ca.gov/api/3/action/help_show?name=datastore_search\",\n",
      "    \"result\": {\n",
      "        \"_links\": {\n",
      "            \"next\": \"/api/3/action/datastore_search?q=title%3Ajones&offset=5&limit=5&resource_id=57142555-f2da-462f-a999-d44abf0af69c\",\n",
      "            \"start\": \"/api/3/action/datastore_search?q=title%3Ajones&limit=5&resource_id=57142555-f2da-462f-a999-d44abf0af69c\"\n",
      "        },\n",
      "        \"fields\": [\n",
      "            {\n",
      "                \"id\": \"_id\",\n",
      "                \"type\": \"int\"\n",
      "            },\n",
      "            {\n",
      "                \"id\": \"CALENDAR_YEAR\",\n",
      "                \"info\": {\n",
      "                    \"label\": \"Calendar Year\",\n",
      "                    \"notes\": \"Valid Values:2017, 2018, 2019, 2020, 2021, 2022\",\n",
      "                    \"type_override\": \"numeric\"\n",
      "                },\n",
      "                \"type\": \"numeric\"\n",
      "            },\n",
      "            {\n",
      "                \"id\": \"COC_ID\",\n",
      "                \"info\": {\n",
      "                    \"label\": \"Continuum of Care Number\",\n",
      "                    \"notes\": \"Valid Values: Any California CoC # or \\\"All\\\"\\r\\n\",\n",
      "                    \"type_override\": \"text\"\n",
      "                },\n",
      "                \"type\": \"text\"\n",
      "            },\n",
      "            {\n",
      "                \"id\": \"COC_NAME\",\n",
      "                \"type\": \"text\"\n",
      "            },\n",
      "            {\n",
      "                \"id\": \"GENDER\",\n",
      "                \"info\": {\n",
      "                    \"label\": \"Gender\",\n",
      "                    \"notes\": \"Valid Values: Female, Male, Non-singular Gender, Questioning Gender, Transgender, Unknown\",\n",
      "                    \"type_override\": \"text\"\n",
      "                },\n",
      "                \"type\": \"text\"\n",
      "            },\n",
      "            {\n",
      "                \"id\": \"EXPERIENCING_HOMELESSNESS_CNT\",\n",
      "                \"type\": \"text\"\n",
      "            },\n",
      "            {\n",
      "                \"id\": \"rank\",\n",
      "                \"type\": \"float\"\n",
      "            }\n",
      "        ],\n",
      "        \"include_total\": true,\n",
      "        \"limit\": 5,\n",
      "        \"q\": \"title:jones\",\n",
      "        \"records\": [],\n",
      "        \"records_format\": \"objects\",\n",
      "        \"resource_id\": \"57142555-f2da-462f-a999-d44abf0af69c\",\n",
      "        \"total\": 0\n",
      "    },\n",
      "    \"success\": true\n",
      "}\n"
     ]
    }
   ],
   "source": [
    "import urllib.request\n",
    "url = 'https://data.ca.gov/api/3/action/datastore_search?resource_id=57142555-f2da-462f-a999-d44abf0af69c&limit=5&q=title:jones'  \n",
    "fileobj = urllib.request.urlopen(url)\n",
    "response_dict = json.loads(fileobj.read()) # Creates python object\n",
    "print(json.dumps(response_dict, indent=4, sort_keys=True))"
   ]
  },
  {
   "cell_type": "code",
   "execution_count": 7,
   "id": "fc9c9727",
   "metadata": {},
   "outputs": [
    {
     "name": "stdout",
     "output_type": "stream",
     "text": [
      "[]\n"
     ]
    }
   ],
   "source": [
    "# THIS GIVES AN EMPTY DATA FRAME.....\n",
    "data = response_dict\n",
    "\n",
    "records = data['result']['records']\n",
    "\n",
    "# Create an empty list to store the extracted information\n",
    "extracted_data = []\n",
    "\n",
    "# Loop through the records and extract the desired information\n",
    "for record in records:\n",
    "    if record['CALENDAR_YEAR'] == 2021:\n",
    "        coc_name = record['COC_NAME']\n",
    "        homeless_count = record['EXPERIENCING_HOMELESSNESS_CNT']\n",
    "        extracted_data.append({'COC Name': coc_name, 'Homeless Count': homeless_count})\n",
    "print(extracted_data)\n",
    "# # Create a DataFrame from the extracted data\n",
    "# df = pd.DataFrame(extracted_data)\n",
    "\n",
    "# # Print the DataFrame\n",
    "# print(df)"
   ]
  },
  {
   "cell_type": "code",
   "execution_count": null,
   "id": "6b0b0084",
   "metadata": {},
   "outputs": [],
   "source": [
    "# file_path = \"C:/Users/evacs/Downloads/2007-2022-PIT-Counts-by-CoC.xlsx\"\n",
    "# county_data = pd.read_excel(file_path, sheet_name = \"2022\")\n",
    "# county_data.head()"
   ]
  },
  {
   "cell_type": "code",
   "execution_count": null,
   "id": "23b4f1d8",
   "metadata": {},
   "outputs": [],
   "source": []
  },
  {
   "cell_type": "code",
   "execution_count": null,
   "id": "0c5d8340",
   "metadata": {},
   "outputs": [],
   "source": [
    "# ca_county_data = county_data[county_data['CoC Number'].str.contains('CA', na=False)]\n",
    "\n",
    "# print(len(ca_county_data))\n",
    "# ca_county_data.head()\n"
   ]
  },
  {
   "cell_type": "code",
   "execution_count": null,
   "id": "fde10ba3",
   "metadata": {},
   "outputs": [],
   "source": [
    "# file_path = \"C:/Users/evacs/Downloads/2007-2022-PIT-Counts-by-CoC.xlsx\"\n",
    "# county_data = pd.read_excel(file_path, sheet_name = \"2022\")\n",
    "# county_data.head()"
   ]
  },
  {
   "cell_type": "code",
   "execution_count": null,
   "id": "82689024",
   "metadata": {},
   "outputs": [],
   "source": [
    "# import json\n",
    "# import urllib.request\n",
    "# url = 'https://data.chhs.ca.gov/api/3/action/datastore_search?resource_id=ad8277be-9e97-4904-9954-006ba8e35dd8&limit=5&q=title:jones'  \n",
    "# fileobj = urllib.request.urlopen(url)\n",
    "# response_dict = json.loads(fileobj.read())\n",
    "# print(response_dict)"
   ]
  },
  {
   "cell_type": "code",
   "execution_count": null,
   "id": "d6c1b13b",
   "metadata": {},
   "outputs": [],
   "source": [
    "#print(json.dumps(response_dict, indent=4, sort_keys=True))"
   ]
  },
  {
   "cell_type": "code",
   "execution_count": null,
   "id": "dd676498",
   "metadata": {},
   "outputs": [],
   "source": []
  }
 ],
 "metadata": {
  "kernelspec": {
   "display_name": "Python 3",
   "language": "python",
   "name": "python3"
  },
  "language_info": {
   "codemirror_mode": {
    "name": "ipython",
    "version": 3
   },
   "file_extension": ".py",
   "mimetype": "text/x-python",
   "name": "python",
   "nbconvert_exporter": "python",
   "pygments_lexer": "ipython3",
   "version": "3.8.5"
  }
 },
 "nbformat": 4,
 "nbformat_minor": 5
}
