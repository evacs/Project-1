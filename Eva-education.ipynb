{
 "cells": [
  {
   "cell_type": "code",
   "execution_count": 10,
   "id": "f0595749",
   "metadata": {},
   "outputs": [],
   "source": [
    "import pandas as pd\n",
    "import matplotlib as pyplot   \n",
    "from pathlib import Path\n",
    "import requests\n",
    "import json\n",
    "from census import Census\n",
    "from us import states"
   ]
  },
  {
   "cell_type": "code",
   "execution_count": 7,
   "id": "e60fae08",
   "metadata": {},
   "outputs": [
    {
     "name": "stdout",
     "output_type": "stream",
     "text": [
      "https://api.census.gov/data.json\n"
     ]
    }
   ],
   "source": [
    "api_key = \"1a075ccdd14f7502695aa6696d73d28a29c0565e\"\n",
    "base_url = \"http://api.census.gov/data.json\"\n",
    "response = requests.get(base_url)\n",
    "print(response.url)"
   ]
  },
  {
   "cell_type": "code",
   "execution_count": 11,
   "id": "e79bc774",
   "metadata": {},
   "outputs": [
    {
     "name": "stdout",
     "output_type": "stream",
     "text": [
      "                           NAME  B15003_002E  B15003_022E  B15003_025E state  \\\n",
      "0    Alameda County, California      31416.0     337847.0      36967.0    06   \n",
      "1     Alpine County, California         11.0        200.0         41.0    06   \n",
      "2     Amador County, California        376.0       4317.0        173.0    06   \n",
      "3      Butte County, California       2195.0      27819.0       1813.0    06   \n",
      "4  Calaveras County, California        250.0       4876.0        232.0    06   \n",
      "\n",
      "  county  \n",
      "0    001  \n",
      "1    003  \n",
      "2    005  \n",
      "3    007  \n",
      "4    009  \n"
     ]
    }
   ],
   "source": [
    "census_client = Census(api_key)\n",
    "state_code = states.CA.fips\n",
    "variables = [\n",
    "    \"NAME\",\n",
    "    \"B15003_002E\", # Number of people with no high school diploma\n",
    "    \"B15003_022E\",  # Number of people with a Bachelor's degree\n",
    "    \"B15003_025E\",  # Number of people with a graduate degree\n",
    "    # Add more variables as needed\n",
    "]\n",
    "\n",
    "# Fetch the data for all counties in California\n",
    "data = census_client.acs5.state_county(variables, state_code, Census.ALL)\n",
    "\n",
    "# Create a DataFrame from the fetched data\n",
    "df = pd.DataFrame(data)\n",
    "\n",
    "# Print the DataFrame\n",
    "print(df.head())"
   ]
  },
  {
   "cell_type": "code",
   "execution_count": null,
   "id": "de226780",
   "metadata": {},
   "outputs": [],
   "source": []
  },
  {
   "cell_type": "code",
   "execution_count": 5,
   "id": "1f2e54a0",
   "metadata": {},
   "outputs": [
    {
     "name": "stderr",
     "output_type": "stream",
     "text": [
      "IOPub data rate exceeded.\n",
      "The notebook server will temporarily stop sending output\n",
      "to the client in order to avoid crashing it.\n",
      "To change this limit, set the config variable\n",
      "`--NotebookApp.iopub_data_rate_limit`.\n",
      "\n",
      "Current values:\n",
      "NotebookApp.iopub_data_rate_limit=1000000.0 (bytes/sec)\n",
      "NotebookApp.rate_limit_window=3.0 (secs)\n",
      "\n"
     ]
    }
   ],
   "source": [
    "data = response.json()\n",
    "print(json.dumps(data, indent=4, sort_keys=True))"
   ]
  },
  {
   "cell_type": "code",
   "execution_count": null,
   "id": "6b0b0084",
   "metadata": {},
   "outputs": [],
   "source": [
    "# file_path = \"C:/Users/evacs/Downloads/2007-2022-PIT-Counts-by-CoC.xlsx\"\n",
    "# county_data = pd.read_excel(file_path, sheet_name = \"2022\")\n",
    "# county_data.head()"
   ]
  },
  {
   "cell_type": "code",
   "execution_count": null,
   "id": "23b4f1d8",
   "metadata": {},
   "outputs": [],
   "source": []
  },
  {
   "cell_type": "code",
   "execution_count": null,
   "id": "0c5d8340",
   "metadata": {},
   "outputs": [],
   "source": [
    "# ca_county_data = county_data[county_data['CoC Number'].str.contains('CA', na=False)]\n",
    "\n",
    "# print(len(ca_county_data))\n",
    "# ca_county_data.head()\n"
   ]
  },
  {
   "cell_type": "code",
   "execution_count": null,
   "id": "fde10ba3",
   "metadata": {},
   "outputs": [],
   "source": [
    "# file_path = \"C:/Users/evacs/Downloads/2007-2022-PIT-Counts-by-CoC.xlsx\"\n",
    "# county_data = pd.read_excel(file_path, sheet_name = \"2022\")\n",
    "# county_data.head()"
   ]
  },
  {
   "cell_type": "code",
   "execution_count": null,
   "id": "82689024",
   "metadata": {},
   "outputs": [],
   "source": [
    "# import json\n",
    "# import urllib.request\n",
    "# url = 'https://data.chhs.ca.gov/api/3/action/datastore_search?resource_id=ad8277be-9e97-4904-9954-006ba8e35dd8&limit=5&q=title:jones'  \n",
    "# fileobj = urllib.request.urlopen(url)\n",
    "# response_dict = json.loads(fileobj.read())\n",
    "# print(response_dict)"
   ]
  },
  {
   "cell_type": "code",
   "execution_count": null,
   "id": "d6c1b13b",
   "metadata": {},
   "outputs": [],
   "source": [
    "#print(json.dumps(response_dict, indent=4, sort_keys=True))"
   ]
  },
  {
   "cell_type": "code",
   "execution_count": null,
   "id": "dd676498",
   "metadata": {},
   "outputs": [],
   "source": []
  }
 ],
 "metadata": {
  "kernelspec": {
   "display_name": "Python 3",
   "language": "python",
   "name": "python3"
  },
  "language_info": {
   "codemirror_mode": {
    "name": "ipython",
    "version": 3
   },
   "file_extension": ".py",
   "mimetype": "text/x-python",
   "name": "python",
   "nbconvert_exporter": "python",
   "pygments_lexer": "ipython3",
   "version": "3.8.5"
  }
 },
 "nbformat": 4,
 "nbformat_minor": 5
}
