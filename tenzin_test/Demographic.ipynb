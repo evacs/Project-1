{
 "cells": [
  {
   "cell_type": "code",
   "execution_count": 4,
   "id": "c769b70f",
   "metadata": {},
   "outputs": [],
   "source": [
    "# Dependencies and Setup\n",
    "import matplotlib.pyplot as plt\n",
    "import pandas as pd\n",
    "import scipy.stats as st\n",
    "import numpy as np\n",
    "from pathlib import Path"
   ]
  },
  {
   "cell_type": "code",
   "execution_count": 13,
   "id": "04693dac",
   "metadata": {
    "scrolled": true
   },
   "outputs": [
    {
     "data": {
      "text/html": [
       "<div>\n",
       "<style scoped>\n",
       "    .dataframe tbody tr th:only-of-type {\n",
       "        vertical-align: middle;\n",
       "    }\n",
       "\n",
       "    .dataframe tbody tr th {\n",
       "        vertical-align: top;\n",
       "    }\n",
       "\n",
       "    .dataframe thead th {\n",
       "        text-align: right;\n",
       "    }\n",
       "</style>\n",
       "<table border=\"1\" class=\"dataframe\">\n",
       "  <thead>\n",
       "    <tr style=\"text-align: right;\">\n",
       "      <th></th>\n",
       "      <th>CALENDAR_YEAR</th>\n",
       "      <th>COC_ID</th>\n",
       "      <th>COC_NAME</th>\n",
       "      <th>GENDER</th>\n",
       "      <th>EXPERIENCING_HOMELESSNESS_CNT</th>\n",
       "    </tr>\n",
       "  </thead>\n",
       "  <tbody>\n",
       "    <tr>\n",
       "      <th>0</th>\n",
       "      <td>2017</td>\n",
       "      <td>All</td>\n",
       "      <td>California</td>\n",
       "      <td>Female</td>\n",
       "      <td>78453</td>\n",
       "    </tr>\n",
       "    <tr>\n",
       "      <th>1</th>\n",
       "      <td>2017</td>\n",
       "      <td>All</td>\n",
       "      <td>California</td>\n",
       "      <td>Male</td>\n",
       "      <td>101150</td>\n",
       "    </tr>\n",
       "    <tr>\n",
       "      <th>2</th>\n",
       "      <td>2017</td>\n",
       "      <td>All</td>\n",
       "      <td>California</td>\n",
       "      <td>Non-Singular Gender</td>\n",
       "      <td>137</td>\n",
       "    </tr>\n",
       "    <tr>\n",
       "      <th>3</th>\n",
       "      <td>2017</td>\n",
       "      <td>All</td>\n",
       "      <td>California</td>\n",
       "      <td>Questioning Gender</td>\n",
       "      <td>*</td>\n",
       "    </tr>\n",
       "    <tr>\n",
       "      <th>4</th>\n",
       "      <td>2017</td>\n",
       "      <td>All</td>\n",
       "      <td>California</td>\n",
       "      <td>Transgender</td>\n",
       "      <td>667</td>\n",
       "    </tr>\n",
       "  </tbody>\n",
       "</table>\n",
       "</div>"
      ],
      "text/plain": [
       "   CALENDAR_YEAR COC_ID    COC_NAME               GENDER  \\\n",
       "0           2017    All  California               Female   \n",
       "1           2017    All  California                 Male   \n",
       "2           2017    All  California  Non-Singular Gender   \n",
       "3           2017    All  California   Questioning Gender   \n",
       "4           2017    All  California          Transgender   \n",
       "\n",
       "  EXPERIENCING_HOMELESSNESS_CNT  \n",
       "0                         78453  \n",
       "1                        101150  \n",
       "2                           137  \n",
       "3                             *  \n",
       "4                           667  "
      ]
     },
     "execution_count": 13,
     "metadata": {},
     "output_type": "execute_result"
    }
   ],
   "source": [
    "\n",
    "# Study data files\n",
    "age_path = Path(\"OneDrive/Desktop/Bootcamp_Projects/Project-1/tenzin_test/Resources/experiencing_homelessness_age_demographics.csv\")\n",
    "ethnicity_path = Path(\"OneDrive/Desktop/Bootcamp_Projects/Project-1/tenzin_test/Resources/experiencing_homelessness_ethnicity_demographics.csv\")\n",
    "gender_path = Path(\"OneDrive/Desktop/Bootcamp_Projects/Project-1/tenzin_test/Resources/experiencing_homelessness_gender_demographics.csv\")\n",
    "\n",
    "# Read the data \n",
    "age = pd.read_csv(age_path)\n",
    "ethnicity = pd.read_csv(ethnicity_path)\n",
    "gender = pd.read_csv(gender_path)\n",
    "\n",
    "#Study the data\n",
    "age.head()\n",
    "ethnicity.head()\n",
    "gender.head()"
   ]
  },
  {
   "cell_type": "code",
   "execution_count": 9,
   "id": "1ebfe100",
   "metadata": {},
   "outputs": [
    {
     "name": "stdout",
     "output_type": "stream",
     "text": [
      "CALENDAR_YEAR                    2141\n",
      "COC_ID                           2141\n",
      "COC_NAME                         2141\n",
      "AGE_GROUP_PUBLIC                 2141\n",
      "EXPERIENCING_HOMELESSNESS_CNT    2141\n",
      "dtype: int64\n",
      "CALENDAR_YEAR                787\n",
      "COC_ID                       787\n",
      "COC_NAME                     787\n",
      "ETHNICITY                    787\n",
      "EXPERIENCING_HOMELESSNESS    787\n",
      "dtype: int64\n",
      "CALENDAR_YEAR                    1234\n",
      "COC_ID                           1234\n",
      "COC_NAME                         1234\n",
      "GENDER                           1234\n",
      "EXPERIENCING_HOMELESSNESS_CNT    1234\n",
      "dtype: int64\n"
     ]
    }
   ],
   "source": [
    "#Checking if there are any null sets.\n",
    "print(age.count())\n",
    "print(ethnicity.count())\n",
    "print(gender.count())"
   ]
  },
  {
   "cell_type": "code",
   "execution_count": 22,
   "id": "0c4ff1b1",
   "metadata": {},
   "outputs": [
    {
     "data": {
      "text/html": [
       "<div>\n",
       "<style scoped>\n",
       "    .dataframe tbody tr th:only-of-type {\n",
       "        vertical-align: middle;\n",
       "    }\n",
       "\n",
       "    .dataframe tbody tr th {\n",
       "        vertical-align: top;\n",
       "    }\n",
       "\n",
       "    .dataframe thead th {\n",
       "        text-align: right;\n",
       "    }\n",
       "</style>\n",
       "<table border=\"1\" class=\"dataframe\">\n",
       "  <thead>\n",
       "    <tr style=\"text-align: right;\">\n",
       "      <th></th>\n",
       "      <th>CALENDAR_YEAR</th>\n",
       "      <th>COC_ID</th>\n",
       "      <th>COC_NAME</th>\n",
       "      <th>GENDER</th>\n",
       "      <th>EXPERIENCING_HOMELESSNESS_CNT</th>\n",
       "    </tr>\n",
       "  </thead>\n",
       "  <tbody>\n",
       "    <tr>\n",
       "      <th>998</th>\n",
       "      <td>2022</td>\n",
       "      <td>All</td>\n",
       "      <td>California</td>\n",
       "      <td>Female</td>\n",
       "      <td>133271</td>\n",
       "    </tr>\n",
       "    <tr>\n",
       "      <th>999</th>\n",
       "      <td>2022</td>\n",
       "      <td>All</td>\n",
       "      <td>California</td>\n",
       "      <td>Male</td>\n",
       "      <td>175197</td>\n",
       "    </tr>\n",
       "    <tr>\n",
       "      <th>1000</th>\n",
       "      <td>2022</td>\n",
       "      <td>All</td>\n",
       "      <td>California</td>\n",
       "      <td>Non-Singular Gender</td>\n",
       "      <td>841</td>\n",
       "    </tr>\n",
       "    <tr>\n",
       "      <th>1001</th>\n",
       "      <td>2022</td>\n",
       "      <td>All</td>\n",
       "      <td>California</td>\n",
       "      <td>Questioning Gender</td>\n",
       "      <td>53</td>\n",
       "    </tr>\n",
       "    <tr>\n",
       "      <th>1002</th>\n",
       "      <td>2022</td>\n",
       "      <td>All</td>\n",
       "      <td>California</td>\n",
       "      <td>Transgender</td>\n",
       "      <td>1534</td>\n",
       "    </tr>\n",
       "    <tr>\n",
       "      <th>1003</th>\n",
       "      <td>2022</td>\n",
       "      <td>All</td>\n",
       "      <td>California</td>\n",
       "      <td>Unknown</td>\n",
       "      <td>5538</td>\n",
       "    </tr>\n",
       "  </tbody>\n",
       "</table>\n",
       "</div>"
      ],
      "text/plain": [
       "      CALENDAR_YEAR COC_ID    COC_NAME               GENDER  \\\n",
       "998            2022    All  California               Female   \n",
       "999            2022    All  California                 Male   \n",
       "1000           2022    All  California  Non-Singular Gender   \n",
       "1001           2022    All  California   Questioning Gender   \n",
       "1002           2022    All  California          Transgender   \n",
       "1003           2022    All  California              Unknown   \n",
       "\n",
       "     EXPERIENCING_HOMELESSNESS_CNT  \n",
       "998                         133271  \n",
       "999                         175197  \n",
       "1000                           841  \n",
       "1001                            53  \n",
       "1002                          1534  \n",
       "1003                          5538  "
      ]
     },
     "execution_count": 22,
     "metadata": {},
     "output_type": "execute_result"
    }
   ],
   "source": [
    "#Discarding cells with insignificant/dirty value\n",
    "gender_df= gender[gender[\"EXPERIENCING_HOMELESSNESS_CNT\"] != \"*\"]\n",
    "cleaned_df1 = gender_df[gender_df[\"CALENDAR_YEAR\"]==2022]\n",
    "cleaned_df = cleaned_df1[cleaned_df1[\"COC_ID\"] == \"All\"]\n",
    "cleaned_df"
   ]
  },
  {
   "cell_type": "code",
   "execution_count": 28,
   "id": "ddc3a500",
   "metadata": {},
   "outputs": [
    {
     "data": {
      "image/png": "[encoded data removed]",
      "text/plain": [
       "<Figure size 640x480 with 1 Axes>"
      ]
     },
     "metadata": {},
     "output_type": "display_data"
    }
   ],
   "source": [
    "\n",
    "plt.pie(cleaned_df[\"EXPERIENCING_HOMELESSNESS_CNT\"],labels = cleaned_df[\"GENDER\"], autopct =\"%1.1f%%\")\n",
    "plt.ylabel(\"GENDER\")\n",
    "plt.show()"
   ]
  },
  {
   "cell_type": "code",
   "execution_count": 38,
   "id": "c080db26",
   "metadata": {},
   "outputs": [
    {
     "data": {
      "text/html": [
       "<div>\n",
       "<style scoped>\n",
       "    .dataframe tbody tr th:only-of-type {\n",
       "        vertical-align: middle;\n",
       "    }\n",
       "\n",
       "    .dataframe tbody tr th {\n",
       "        vertical-align: top;\n",
       "    }\n",
       "\n",
       "    .dataframe thead th {\n",
       "        text-align: right;\n",
       "    }\n",
       "</style>\n",
       "<table border=\"1\" class=\"dataframe\">\n",
       "  <thead>\n",
       "    <tr style=\"text-align: right;\">\n",
       "      <th></th>\n",
       "      <th>CALENDAR_YEAR</th>\n",
       "      <th>COC_ID</th>\n",
       "      <th>COC_NAME</th>\n",
       "      <th>AGE_GROUP_PUBLIC</th>\n",
       "      <th>EXPERIENCING_HOMELESSNESS_CNT</th>\n",
       "    </tr>\n",
       "  </thead>\n",
       "  <tbody>\n",
       "    <tr>\n",
       "      <th>1788</th>\n",
       "      <td>2022</td>\n",
       "      <td>All</td>\n",
       "      <td>California</td>\n",
       "      <td>Under 18</td>\n",
       "      <td>67913</td>\n",
       "    </tr>\n",
       "    <tr>\n",
       "      <th>1784</th>\n",
       "      <td>2022</td>\n",
       "      <td>All</td>\n",
       "      <td>California</td>\n",
       "      <td>35-44</td>\n",
       "      <td>55839</td>\n",
       "    </tr>\n",
       "    <tr>\n",
       "      <th>1783</th>\n",
       "      <td>2022</td>\n",
       "      <td>All</td>\n",
       "      <td>California</td>\n",
       "      <td>25-34</td>\n",
       "      <td>54477</td>\n",
       "    </tr>\n",
       "    <tr>\n",
       "      <th>1785</th>\n",
       "      <td>2022</td>\n",
       "      <td>All</td>\n",
       "      <td>California</td>\n",
       "      <td>45-54</td>\n",
       "      <td>46531</td>\n",
       "    </tr>\n",
       "    <tr>\n",
       "      <th>1786</th>\n",
       "      <td>2022</td>\n",
       "      <td>All</td>\n",
       "      <td>California</td>\n",
       "      <td>55-64</td>\n",
       "      <td>44263</td>\n",
       "    </tr>\n",
       "    <tr>\n",
       "      <th>1782</th>\n",
       "      <td>2022</td>\n",
       "      <td>All</td>\n",
       "      <td>California</td>\n",
       "      <td>18-24</td>\n",
       "      <td>25046</td>\n",
       "    </tr>\n",
       "    <tr>\n",
       "      <th>1787</th>\n",
       "      <td>2022</td>\n",
       "      <td>All</td>\n",
       "      <td>California</td>\n",
       "      <td>65+</td>\n",
       "      <td>18537</td>\n",
       "    </tr>\n",
       "    <tr>\n",
       "      <th>1789</th>\n",
       "      <td>2022</td>\n",
       "      <td>All</td>\n",
       "      <td>California</td>\n",
       "      <td>Unknown</td>\n",
       "      <td>11228</td>\n",
       "    </tr>\n",
       "  </tbody>\n",
       "</table>\n",
       "</div>"
      ],
      "text/plain": [
       "      CALENDAR_YEAR COC_ID    COC_NAME AGE_GROUP_PUBLIC  \\\n",
       "1788           2022    All  California         Under 18   \n",
       "1784           2022    All  California            35-44   \n",
       "1783           2022    All  California            25-34   \n",
       "1785           2022    All  California            45-54   \n",
       "1786           2022    All  California            55-64   \n",
       "1782           2022    All  California            18-24   \n",
       "1787           2022    All  California              65+   \n",
       "1789           2022    All  California          Unknown   \n",
       "\n",
       "     EXPERIENCING_HOMELESSNESS_CNT  \n",
       "1788                         67913  \n",
       "1784                         55839  \n",
       "1783                         54477  \n",
       "1785                         46531  \n",
       "1786                         44263  \n",
       "1782                         25046  \n",
       "1787                         18537  \n",
       "1789                         11228  "
      ]
     },
     "execution_count": 38,
     "metadata": {},
     "output_type": "execute_result"
    }
   ],
   "source": [
    "age_df1 = age[age[\"CALENDAR_YEAR\"]==2022]\n",
    "age_df = age_df1[age_df1[\"COC_ID\"] == \"All\"]\n",
    "age_df.sort_values(by = \"EXPERIENCING_HOMELESSNESS_CNT\",ascending = False)\n"
   ]
  },
  {
   "cell_type": "code",
   "execution_count": 52,
   "id": "f8499a64",
   "metadata": {},
   "outputs": [
    {
     "name": "stderr",
     "output_type": "stream",
     "text": [
      "C:\\Users\\tnord\\AppData\\Local\\Temp\\ipykernel_2112\\609040547.py:1: SettingWithCopyWarning: \n",
      "A value is trying to be set on a copy of a slice from a DataFrame.\n",
      "Try using .loc[row_indexer,col_indexer] = value instead\n",
      "\n",
      "See the caveats in the documentation: https://pandas.pydata.org/pandas-docs/stable/user_guide/indexing.html#returning-a-view-versus-a-copy\n",
      "  age_df[\"EXPERIENCING_HOMELESSNESS_CNT\"]=age_df[\"EXPERIENCING_HOMELESSNESS_CNT\"].astype(int)\n"
     ]
    }
   ],
   "source": [
    "age_df[\"EXPERIENCING_HOMELESSNESS_CNT\"]=age_df[\"EXPERIENCING_HOMELESSNESS_CNT\"].astype(int)"
   ]
  },
  {
   "cell_type": "code",
   "execution_count": 53,
   "id": "02145edf",
   "metadata": {},
   "outputs": [
    {
     "data": {
      "image/png": "[encoded data removed]",
      "text/plain": [
       "<Figure size 800x500 with 1 Axes>"
      ]
     },
     "metadata": {},
     "output_type": "display_data"
    }
   ],
   "source": [
    "age_group = age_df[[\"AGE_GROUP_PUBLIC\", \"EXPERIENCING_HOMELESSNESS_CNT\"]]\n",
    "\n",
    "# Plotting the bar chart\n",
    "age_group.plot(kind=\"bar\", x=\"AGE_GROUP_PUBLIC\", y=\"EXPERIENCING_HOMELESSNESS_CNT\", figsize=(8, 5))\n",
    "\n",
    "# Customizing the chart\n",
    "plt.xlabel(\"Age Group\")\n",
    "plt.ylabel(\"Experiencing homelessness count\")\n",
    "plt.title(\"Experiencing Homelessness by Age Group\")\n",
    "\n",
    "# Display the plot\n",
    "plt.show()"
   ]
  },
  {
   "cell_type": "code",
   "execution_count": null,
   "id": "e50ac16b",
   "metadata": {},
   "outputs": [],
   "source": []
  }
 ],
 "metadata": {
  "kernelspec": {
   "display_name": "Python 3 (ipykernel)",
   "language": "python",
   "name": "python3"
  },
  "language_info": {
   "codemirror_mode": {
    "name": "ipython",
    "version": 3
   },
   "file_extension": ".py",
   "mimetype": "text/x-python",
   "name": "python",
   "nbconvert_exporter": "python",
   "pygments_lexer": "ipython3",
   "version": "3.10.11"
  }
 },
 "nbformat": 4,
 "nbformat_minor": 5
}
